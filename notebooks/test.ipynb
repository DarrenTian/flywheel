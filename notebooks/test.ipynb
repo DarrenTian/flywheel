{
 "cells": [
  {
   "cell_type": "code",
   "execution_count": null,
   "metadata": {
    "tags": []
   },
   "outputs": [],
   "source": [
    "import os \n",
    "#if you want to know current working dir\n",
    "os.getcwd()\n",
    "#if you want to change\n",
    "os.chdir('/Users/yayuntian/Documents/github/flywheel')\n",
    "\n",
    "import datetime\n",
    "from datetime import date, timedelta\n",
    "import pandas as pd\n",
    "\n",
    "from flywheel.backtesting import backtesting,stats\n",
    "from flywheel.market.market import Market\n",
    "from flywheel.strategy.account import Account\n",
    "from flywheel.strategy.strategy import DoNothingStrategy, PortfolioRebalanceStrategy\n",
    "portfolio_rebalance_strategy = PortfolioRebalanceStrategy({\"INTC\": 0.5, \"GOOG\": 0.5})\n",
    "prices = backtesting.backtesting(portfolio_rebalance_strategy, datetime.date(2020, 7, 1), date.today())\n"
   ]
  },
  {
   "cell_type": "code",
   "execution_count": null,
   "metadata": {
    "tags": []
   },
   "outputs": [],
   "source": [
    "print(prices)"
   ]
  },
  {
   "cell_type": "code",
   "execution_count": null,
   "metadata": {},
   "outputs": [],
   "source": []
  }
 ],
 "metadata": {
  "kernelspec": {
   "display_name": "Python 3",
   "language": "python",
   "name": "python3"
  },
  "language_info": {
   "codemirror_mode": {
    "name": "ipython",
    "version": 3
   },
   "file_extension": ".py",
   "mimetype": "text/x-python",
   "name": "python",
   "nbconvert_exporter": "python",
   "pygments_lexer": "ipython3",
   "version": "3.7.3-final"
  }
 },
 "nbformat": 4,
 "nbformat_minor": 4
}